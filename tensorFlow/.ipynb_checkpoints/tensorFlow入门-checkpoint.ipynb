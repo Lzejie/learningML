{
 "cells": [
  {
   "cell_type": "markdown",
   "metadata": {},
   "source": [
    "# 变量介绍"
   ]
  },
  {
   "cell_type": "markdown",
   "metadata": {},
   "source": [
    "### 导入包"
   ]
  },
  {
   "cell_type": "code",
   "execution_count": 1,
   "metadata": {
    "collapsed": true
   },
   "outputs": [],
   "source": [
    "import tensorflow as tf\n",
    "import numpy as np"
   ]
  },
  {
   "cell_type": "markdown",
   "metadata": {},
   "source": [
    "### 变量和算子的介绍\n",
    "- tf.Variable : 变量，即计算过程中需要被优化的东西，他在训练过程中，值会不断被优化。\n",
    "- tf.constant : 常亮，是一个固定的值，在计算过程中不会被改变\n",
    "- tf.add      : 算子，用于对两个变量进行求和操作\n",
    "- tf.assign   : 赋值算子，将第二个参数的值赋给第一个参数的那个变量\n",
    "- tf.train    : 训练相关的所有方法包含在这里面，包括梯度下降等\n"
   ]
  },
  {
   "cell_type": "code",
   "execution_count": null,
   "metadata": {
    "collapsed": true
   },
   "outputs": [],
   "source": []
  },
  {
   "cell_type": "markdown",
   "metadata": {},
   "source": [
    "### 在这里用一个线性方程来做例子： Y = 0.3x + 1"
   ]
  },
  {
   "cell_type": "code",
   "execution_count": 2,
   "metadata": {
    "collapsed": true
   },
   "outputs": [],
   "source": [
    "x = np.random.rand(100)\n",
    "b = 1\n",
    "Y = 0.3*x + b"
   ]
  },
  {
   "cell_type": "code",
   "execution_count": 6,
   "metadata": {
    "collapsed": true
   },
   "outputs": [],
   "source": [
    "# Variable为变量，即在计算过程中会不断变化的矩阵，在这里随机生成一个[-1.0, 1.0]的浮点数\n",
    "weights = tf.Variable(tf.random_uniform([1], -1.0, 1.0))\n",
    "# 偏移量默认值定位1\n",
    "biases = tf.Variable(tf.zeros([1]))"
   ]
  },
  {
   "cell_type": "code",
   "execution_count": 7,
   "metadata": {
    "collapsed": false
   },
   "outputs": [],
   "source": [
    "# 在这里定义计算方式\n",
    "outputY = weights * x + biases"
   ]
  },
  {
   "cell_type": "code",
   "execution_count": 9,
   "metadata": {
    "collapsed": false
   },
   "outputs": [],
   "source": [
    "# 然后定义损失函数\n",
    "loss = tf.reduce_mean(tf.square(Y-outputY))"
   ]
  },
  {
   "cell_type": "code",
   "execution_count": 23,
   "metadata": {
    "collapsed": false
   },
   "outputs": [],
   "source": [
    "# 接着确定一个优化器，类似于梯度下降之类的\n",
    "# 后面那个0.5是指梯度下降的步长\n",
    "operator = tf.train.GradientDescentOptimizer(0.5)\n",
    "# 最小化损失函数\n",
    "train = operator.minimize(loss)"
   ]
  },
  {
   "cell_type": "code",
   "execution_count": 20,
   "metadata": {
    "collapsed": false
   },
   "outputs": [
    {
     "name": "stdout",
     "output_type": "stream",
     "text": [
      "WARNING:tensorflow:From /Library/Python/2.7/site-packages/tensorflow/python/util/tf_should_use.py:170: initialize_all_variables (from tensorflow.python.ops.variables) is deprecated and will be removed after 2017-03-02.\n",
      "Instructions for updating:\n",
      "Use `tf.global_variables_initializer` instead.\n"
     ]
    }
   ],
   "source": [
    "# 上面的过程只是创建一个张量流图而已，类似于面向对象中的定义了一个类，下面就是要创建一个对象了\n",
    "# 这里就是用于初始化所有变量的\n",
    "init = tf.initialize_all_variables()"
   ]
  },
  {
   "cell_type": "code",
   "execution_count": 21,
   "metadata": {
    "collapsed": true
   },
   "outputs": [],
   "source": [
    "# 上面的步骤就相当于在TensorFlow这个编辑器里面写好了代码，sess就是一个解释器，用来运行每一个部分的代码的。\n",
    "# 厉害的地方就是我们可以控制这个解释器去解释那个部分的代码\n",
    "sess = tf.Session()"
   ]
  },
  {
   "cell_type": "code",
   "execution_count": 29,
   "metadata": {
    "collapsed": false
   },
   "outputs": [
    {
     "name": "stdout",
     "output_type": "stream",
     "text": [
      "0 \t[ 0.49016297] \t[ 1.23606741]\n",
      "20 \t[ 0.31086701] \t[ 0.99413818]\n",
      "40 \t[ 0.30242667] \t[ 0.99869102]\n",
      "60 \t[ 0.30054191] \t[ 0.9997077]\n",
      "80 \t[ 0.30012098] \t[ 0.99993473]\n",
      "100 \t[ 0.30002695] \t[ 0.99998546]\n",
      "120 \t[ 0.30000603] \t[ 0.99999678]\n",
      "140 \t[ 0.30000135] \t[ 0.99999928]\n",
      "160 \t[ 0.30000028] \t[ 0.99999982]\n",
      "180 \t[ 0.30000019] \t[ 0.99999988]\n",
      "200 \t[ 0.30000019] \t[ 0.99999988]\n"
     ]
    }
   ],
   "source": [
    "# 用上面创建的那个“解释器”执行初始化操作\n",
    "sess.run(init)\n",
    "# 反复执行那个最小化损失函数\n",
    "for run in range(201):\n",
    "    sess.run(train)\n",
    "    if run % 20 == 0:\n",
    "        print run, '\\t', sess.run(weights), '\\t', sess.run(biases)"
   ]
  }
 ],
 "metadata": {
  "kernelspec": {
   "display_name": "Python 2",
   "language": "python",
   "name": "python2"
  },
  "language_info": {
   "codemirror_mode": {
    "name": "ipython",
    "version": 2
   },
   "file_extension": ".py",
   "mimetype": "text/x-python",
   "name": "python",
   "nbconvert_exporter": "python",
   "pygments_lexer": "ipython2",
   "version": "2.7.10"
  }
 },
 "nbformat": 4,
 "nbformat_minor": 2
}
